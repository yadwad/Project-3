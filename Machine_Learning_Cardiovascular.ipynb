{
 "cells": [
  {
   "cell_type": "code",
   "execution_count": 2,
   "metadata": {},
   "outputs": [],
   "source": [
    "%matplotlib inline\n",
    "import matplotlib.pyplot as plt\n",
    "import pandas as pd\n",
    "import os"
   ]
  },
  {
   "cell_type": "code",
   "execution_count": 3,
   "metadata": {},
   "outputs": [
    {
     "data": {
      "text/html": [
       "<div>\n",
       "<style scoped>\n",
       "    .dataframe tbody tr th:only-of-type {\n",
       "        vertical-align: middle;\n",
       "    }\n",
       "\n",
       "    .dataframe tbody tr th {\n",
       "        vertical-align: top;\n",
       "    }\n",
       "\n",
       "    .dataframe thead th {\n",
       "        text-align: right;\n",
       "    }\n",
       "</style>\n",
       "<table border=\"1\" class=\"dataframe\">\n",
       "  <thead>\n",
       "    <tr style=\"text-align: right;\">\n",
       "      <th></th>\n",
       "      <th>age</th>\n",
       "      <th>sex</th>\n",
       "      <th>cp</th>\n",
       "      <th>trestbps</th>\n",
       "      <th>chol</th>\n",
       "      <th>fbs</th>\n",
       "      <th>restecg</th>\n",
       "      <th>thalach</th>\n",
       "      <th>exang</th>\n",
       "      <th>oldpeak</th>\n",
       "      <th>slope</th>\n",
       "      <th>ca</th>\n",
       "      <th>thal</th>\n",
       "      <th>target</th>\n",
       "    </tr>\n",
       "  </thead>\n",
       "  <tbody>\n",
       "    <tr>\n",
       "      <th>0</th>\n",
       "      <td>52</td>\n",
       "      <td>1</td>\n",
       "      <td>0</td>\n",
       "      <td>125</td>\n",
       "      <td>212</td>\n",
       "      <td>0</td>\n",
       "      <td>1</td>\n",
       "      <td>168</td>\n",
       "      <td>0</td>\n",
       "      <td>1.0</td>\n",
       "      <td>2</td>\n",
       "      <td>2</td>\n",
       "      <td>3</td>\n",
       "      <td>0</td>\n",
       "    </tr>\n",
       "    <tr>\n",
       "      <th>1</th>\n",
       "      <td>53</td>\n",
       "      <td>1</td>\n",
       "      <td>0</td>\n",
       "      <td>140</td>\n",
       "      <td>203</td>\n",
       "      <td>1</td>\n",
       "      <td>0</td>\n",
       "      <td>155</td>\n",
       "      <td>1</td>\n",
       "      <td>3.1</td>\n",
       "      <td>0</td>\n",
       "      <td>0</td>\n",
       "      <td>3</td>\n",
       "      <td>0</td>\n",
       "    </tr>\n",
       "    <tr>\n",
       "      <th>2</th>\n",
       "      <td>70</td>\n",
       "      <td>1</td>\n",
       "      <td>0</td>\n",
       "      <td>145</td>\n",
       "      <td>174</td>\n",
       "      <td>0</td>\n",
       "      <td>1</td>\n",
       "      <td>125</td>\n",
       "      <td>1</td>\n",
       "      <td>2.6</td>\n",
       "      <td>0</td>\n",
       "      <td>0</td>\n",
       "      <td>3</td>\n",
       "      <td>0</td>\n",
       "    </tr>\n",
       "    <tr>\n",
       "      <th>3</th>\n",
       "      <td>61</td>\n",
       "      <td>1</td>\n",
       "      <td>0</td>\n",
       "      <td>148</td>\n",
       "      <td>203</td>\n",
       "      <td>0</td>\n",
       "      <td>1</td>\n",
       "      <td>161</td>\n",
       "      <td>0</td>\n",
       "      <td>0.0</td>\n",
       "      <td>2</td>\n",
       "      <td>1</td>\n",
       "      <td>3</td>\n",
       "      <td>0</td>\n",
       "    </tr>\n",
       "    <tr>\n",
       "      <th>4</th>\n",
       "      <td>62</td>\n",
       "      <td>0</td>\n",
       "      <td>0</td>\n",
       "      <td>138</td>\n",
       "      <td>294</td>\n",
       "      <td>1</td>\n",
       "      <td>1</td>\n",
       "      <td>106</td>\n",
       "      <td>0</td>\n",
       "      <td>1.9</td>\n",
       "      <td>1</td>\n",
       "      <td>3</td>\n",
       "      <td>2</td>\n",
       "      <td>0</td>\n",
       "    </tr>\n",
       "  </tbody>\n",
       "</table>\n",
       "</div>"
      ],
      "text/plain": [
       "   age  sex  cp  trestbps  chol  fbs  restecg  thalach  exang  oldpeak  slope  \\\n",
       "0   52    1   0       125   212    0        1      168      0      1.0      2   \n",
       "1   53    1   0       140   203    1        0      155      1      3.1      0   \n",
       "2   70    1   0       145   174    0        1      125      1      2.6      0   \n",
       "3   61    1   0       148   203    0        1      161      0      0.0      2   \n",
       "4   62    0   0       138   294    1        1      106      0      1.9      1   \n",
       "\n",
       "   ca  thal  target  \n",
       "0   2     3       0  \n",
       "1   0     3       0  \n",
       "2   0     3       0  \n",
       "3   1     3       0  \n",
       "4   3     2       0  "
      ]
     },
     "execution_count": 3,
     "metadata": {},
     "output_type": "execute_result"
    }
   ],
   "source": [
    "heart_path = os.path.join(\"/Users/Kish/Desktop/GW_Bootcamp_Repository/test/GWARL201902DATA3/Untitled Folder/heart 2.csv\")\n",
    "heart = pd.read_csv(heart_path)\n",
    "heart.head()"
   ]
  },
  {
   "cell_type": "code",
   "execution_count": 4,
   "metadata": {},
   "outputs": [
    {
     "name": "stdout",
     "output_type": "stream",
     "text": [
      "(1025, 13) (1025,)\n"
     ]
    }
   ],
   "source": [
    "X = heart.drop(\"target\", axis = 1)\n",
    "y = heart[\"target\"]\n",
    "print(X.shape, y.shape)"
   ]
  },
  {
   "cell_type": "markdown",
   "metadata": {},
   "source": [
    "New Code"
   ]
  },
  {
   "cell_type": "code",
   "execution_count": 5,
   "metadata": {},
   "outputs": [],
   "source": [
    "from sklearn.model_selection import train_test_split\n",
    "from sklearn.preprocessing import LabelEncoder, MinMaxScaler\n",
    "from tensorflow.keras.utils import to_categorical"
   ]
  },
  {
   "cell_type": "code",
   "execution_count": 6,
   "metadata": {},
   "outputs": [],
   "source": [
    "X_train, X_test, y_train, y_test = train_test_split(\n",
    "    X, y, random_state=1, stratify=y)"
   ]
  },
  {
   "cell_type": "code",
   "execution_count": 7,
   "metadata": {},
   "outputs": [
    {
     "name": "stderr",
     "output_type": "stream",
     "text": [
      "/Users/Kish/anaconda3/lib/python3.7/site-packages/sklearn/preprocessing/data.py:323: DataConversionWarning: Data with input dtype int64, float64 were all converted to float64 by MinMaxScaler.\n",
      "  return self.partial_fit(X, y)\n"
     ]
    }
   ],
   "source": [
    "X_scaler = MinMaxScaler().fit(X_train)\n",
    "X_train_scaled = X_scaler.transform(X_train)\n",
    "X_test_scaled = X_scaler.transform(X_test)"
   ]
  },
  {
   "cell_type": "code",
   "execution_count": 8,
   "metadata": {},
   "outputs": [],
   "source": [
    "# Step 1: Label-encode data set\n",
    "label_encoder = LabelEncoder()\n",
    "label_encoder.fit(y_train)\n",
    "encoded_y_train = label_encoder.transform(y_train)\n",
    "encoded_y_test = label_encoder.transform(y_test)"
   ]
  },
  {
   "cell_type": "code",
   "execution_count": 8,
   "metadata": {},
   "outputs": [],
   "source": [
    "# Step 2: Convert encoded labels to one-hot-encoding\n",
    "y_train_categorical = to_categorical(encoded_y_train)\n",
    "y_test_categorical = to_categorical(encoded_y_test)"
   ]
  },
  {
   "cell_type": "code",
   "execution_count": 9,
   "metadata": {},
   "outputs": [],
   "source": [
    "from tensorflow.keras.models import Sequential\n",
    "from tensorflow.keras.layers import Dense"
   ]
  },
  {
   "cell_type": "code",
   "execution_count": 10,
   "metadata": {},
   "outputs": [
    {
     "name": "stdout",
     "output_type": "stream",
     "text": [
      "WARNING:tensorflow:From /Users/Kish/anaconda3/lib/python3.7/site-packages/tensorflow/python/ops/resource_variable_ops.py:435: colocate_with (from tensorflow.python.framework.ops) is deprecated and will be removed in a future version.\n",
      "Instructions for updating:\n",
      "Colocations handled automatically by placer.\n"
     ]
    }
   ],
   "source": [
    "# Create model and add layers\n",
    "model = Sequential()\n",
    "model.add(Dense(units=100, activation='relu', input_dim=13))\n",
    "model.add(Dense(units=100, activation='relu'))\n",
    "model.add(Dense(units=2, activation='softmax'))"
   ]
  },
  {
   "cell_type": "code",
   "execution_count": 11,
   "metadata": {},
   "outputs": [],
   "source": [
    "# Compile and fit the model\n",
    "model.compile(optimizer='adam',\n",
    "              loss='categorical_crossentropy',\n",
    "              metrics=['accuracy'])"
   ]
  },
  {
   "cell_type": "code",
   "execution_count": 12,
   "metadata": {},
   "outputs": [
    {
     "name": "stdout",
     "output_type": "stream",
     "text": [
      "_________________________________________________________________\n",
      "Layer (type)                 Output Shape              Param #   \n",
      "=================================================================\n",
      "dense (Dense)                (None, 100)               1400      \n",
      "_________________________________________________________________\n",
      "dense_1 (Dense)              (None, 100)               10100     \n",
      "_________________________________________________________________\n",
      "dense_2 (Dense)              (None, 2)                 202       \n",
      "=================================================================\n",
      "Total params: 11,702\n",
      "Trainable params: 11,702\n",
      "Non-trainable params: 0\n",
      "_________________________________________________________________\n"
     ]
    }
   ],
   "source": [
    "model.summary()"
   ]
  },
  {
   "cell_type": "code",
   "execution_count": 13,
   "metadata": {},
   "outputs": [
    {
     "data": {
      "text/plain": [
       "(1025, 13)"
      ]
     },
     "execution_count": 13,
     "metadata": {},
     "output_type": "execute_result"
    }
   ],
   "source": [
    "X.shape"
   ]
  },
  {
   "cell_type": "code",
   "execution_count": 14,
   "metadata": {},
   "outputs": [
    {
     "data": {
      "text/plain": [
       "(1025,)"
      ]
     },
     "execution_count": 14,
     "metadata": {},
     "output_type": "execute_result"
    }
   ],
   "source": [
    "y.shape"
   ]
  },
  {
   "cell_type": "code",
   "execution_count": null,
   "metadata": {},
   "outputs": [],
   "source": []
  },
  {
   "cell_type": "code",
   "execution_count": 15,
   "metadata": {},
   "outputs": [
    {
     "name": "stdout",
     "output_type": "stream",
     "text": [
      "WARNING:tensorflow:From /Users/Kish/anaconda3/lib/python3.7/site-packages/tensorflow/python/ops/math_ops.py:3066: to_int32 (from tensorflow.python.ops.math_ops) is deprecated and will be removed in a future version.\n",
      "Instructions for updating:\n",
      "Use tf.cast instead.\n",
      "Epoch 1/100\n",
      " - 1s - loss: 0.5842 - acc: 0.7409\n",
      "Epoch 2/100\n",
      " - 0s - loss: 0.4483 - acc: 0.8034\n",
      "Epoch 3/100\n",
      " - 0s - loss: 0.3835 - acc: 0.8503\n",
      "Epoch 4/100\n",
      " - 0s - loss: 0.3622 - acc: 0.8516\n",
      "Epoch 5/100\n",
      " - 0s - loss: 0.3441 - acc: 0.8646\n",
      "Epoch 6/100\n",
      " - 0s - loss: 0.3352 - acc: 0.8685\n",
      "Epoch 7/100\n",
      " - 0s - loss: 0.3214 - acc: 0.8698\n",
      "Epoch 8/100\n",
      " - 0s - loss: 0.3034 - acc: 0.8841\n",
      "Epoch 9/100\n",
      " - 0s - loss: 0.2910 - acc: 0.8854\n",
      "Epoch 10/100\n",
      " - 0s - loss: 0.2861 - acc: 0.8854\n",
      "Epoch 11/100\n",
      " - 0s - loss: 0.2685 - acc: 0.8906\n",
      "Epoch 12/100\n",
      " - 0s - loss: 0.2549 - acc: 0.8932\n",
      "Epoch 13/100\n",
      " - 0s - loss: 0.2503 - acc: 0.9089\n",
      "Epoch 14/100\n",
      " - 0s - loss: 0.2332 - acc: 0.9076\n",
      "Epoch 15/100\n",
      " - 0s - loss: 0.2275 - acc: 0.9141\n",
      "Epoch 16/100\n",
      " - 0s - loss: 0.2190 - acc: 0.9154\n",
      "Epoch 17/100\n",
      " - 0s - loss: 0.2212 - acc: 0.9049\n",
      "Epoch 18/100\n",
      " - 0s - loss: 0.1975 - acc: 0.9219\n",
      "Epoch 19/100\n",
      " - 0s - loss: 0.1881 - acc: 0.9336\n",
      "Epoch 20/100\n",
      " - 0s - loss: 0.1817 - acc: 0.9349\n",
      "Epoch 21/100\n",
      " - 0s - loss: 0.1768 - acc: 0.9401\n",
      "Epoch 22/100\n",
      " - 0s - loss: 0.1645 - acc: 0.9427\n",
      "Epoch 23/100\n",
      " - 0s - loss: 0.1594 - acc: 0.9518\n",
      "Epoch 24/100\n",
      " - 0s - loss: 0.1567 - acc: 0.9401\n",
      "Epoch 25/100\n",
      " - 0s - loss: 0.1519 - acc: 0.9531\n",
      "Epoch 26/100\n",
      " - 0s - loss: 0.1426 - acc: 0.9557\n",
      "Epoch 27/100\n",
      " - 0s - loss: 0.1383 - acc: 0.9557\n",
      "Epoch 28/100\n",
      " - 0s - loss: 0.1349 - acc: 0.9544\n",
      "Epoch 29/100\n",
      " - 0s - loss: 0.1248 - acc: 0.9661\n",
      "Epoch 30/100\n",
      " - 0s - loss: 0.1232 - acc: 0.9596\n",
      "Epoch 31/100\n",
      " - 0s - loss: 0.1296 - acc: 0.9583\n",
      "Epoch 32/100\n",
      " - 0s - loss: 0.1284 - acc: 0.9518\n",
      "Epoch 33/100\n",
      " - 0s - loss: 0.1167 - acc: 0.9674\n",
      "Epoch 34/100\n",
      " - 0s - loss: 0.1109 - acc: 0.9648\n",
      "Epoch 35/100\n",
      " - 0s - loss: 0.1063 - acc: 0.9622\n",
      "Epoch 36/100\n",
      " - 0s - loss: 0.1062 - acc: 0.9622\n",
      "Epoch 37/100\n",
      " - 0s - loss: 0.0964 - acc: 0.9701\n",
      "Epoch 38/100\n",
      " - 0s - loss: 0.0978 - acc: 0.9661\n",
      "Epoch 39/100\n",
      " - 0s - loss: 0.0907 - acc: 0.9674\n",
      "Epoch 40/100\n",
      " - 0s - loss: 0.0861 - acc: 0.9674\n",
      "Epoch 41/100\n",
      " - 0s - loss: 0.0811 - acc: 0.9727\n",
      "Epoch 42/100\n",
      " - 0s - loss: 0.0872 - acc: 0.9701\n",
      "Epoch 43/100\n",
      " - 0s - loss: 0.0996 - acc: 0.9557\n",
      "Epoch 44/100\n",
      " - 0s - loss: 0.0825 - acc: 0.9766\n",
      "Epoch 45/100\n",
      " - 0s - loss: 0.0805 - acc: 0.9701\n",
      "Epoch 46/100\n",
      " - 0s - loss: 0.0738 - acc: 0.9701\n",
      "Epoch 47/100\n",
      " - 0s - loss: 0.0687 - acc: 0.9740\n",
      "Epoch 48/100\n",
      " - 0s - loss: 0.0696 - acc: 0.9740\n",
      "Epoch 49/100\n",
      " - 0s - loss: 0.0705 - acc: 0.9740\n",
      "Epoch 50/100\n",
      " - 0s - loss: 0.0677 - acc: 0.9753\n",
      "Epoch 51/100\n",
      " - 0s - loss: 0.0644 - acc: 0.9727\n",
      "Epoch 52/100\n",
      " - 0s - loss: 0.0577 - acc: 0.9766\n",
      "Epoch 53/100\n",
      " - 0s - loss: 0.0553 - acc: 0.9831\n",
      "Epoch 54/100\n",
      " - 0s - loss: 0.0583 - acc: 0.9740\n",
      "Epoch 55/100\n",
      " - 0s - loss: 0.0535 - acc: 0.9766\n",
      "Epoch 56/100\n",
      " - 0s - loss: 0.0494 - acc: 0.9805\n",
      "Epoch 57/100\n",
      " - 0s - loss: 0.0509 - acc: 0.9792\n",
      "Epoch 58/100\n",
      " - 0s - loss: 0.0505 - acc: 0.9818\n",
      "Epoch 59/100\n",
      " - 0s - loss: 0.0481 - acc: 0.9831\n",
      "Epoch 60/100\n",
      " - 0s - loss: 0.0470 - acc: 0.9844\n",
      "Epoch 61/100\n",
      " - 0s - loss: 0.0470 - acc: 0.9857\n",
      "Epoch 62/100\n",
      " - 0s - loss: 0.0437 - acc: 0.9766\n",
      "Epoch 63/100\n",
      " - 0s - loss: 0.0423 - acc: 0.9870\n",
      "Epoch 64/100\n",
      " - 0s - loss: 0.0375 - acc: 0.9883\n",
      "Epoch 65/100\n",
      " - 0s - loss: 0.0370 - acc: 0.9883\n",
      "Epoch 66/100\n",
      " - 0s - loss: 0.0357 - acc: 0.9922\n",
      "Epoch 67/100\n",
      " - 0s - loss: 0.0345 - acc: 0.9909\n",
      "Epoch 68/100\n",
      " - 0s - loss: 0.0382 - acc: 0.9844\n",
      "Epoch 69/100\n",
      " - 0s - loss: 0.0336 - acc: 0.9909\n",
      "Epoch 70/100\n",
      " - 0s - loss: 0.0320 - acc: 0.9935\n",
      "Epoch 71/100\n",
      " - 0s - loss: 0.0337 - acc: 0.9909\n",
      "Epoch 72/100\n",
      " - 0s - loss: 0.0318 - acc: 0.9909\n",
      "Epoch 73/100\n",
      " - 0s - loss: 0.0318 - acc: 0.9883\n",
      "Epoch 74/100\n",
      " - 0s - loss: 0.0281 - acc: 0.9961\n",
      "Epoch 75/100\n",
      " - 0s - loss: 0.0259 - acc: 1.0000\n",
      "Epoch 76/100\n",
      " - 0s - loss: 0.0293 - acc: 0.9935\n",
      "Epoch 77/100\n",
      " - 0s - loss: 0.0267 - acc: 0.9961\n",
      "Epoch 78/100\n",
      " - 0s - loss: 0.0293 - acc: 0.9974\n",
      "Epoch 79/100\n",
      " - 0s - loss: 0.0252 - acc: 0.9948\n",
      "Epoch 80/100\n",
      " - 0s - loss: 0.0238 - acc: 0.9974\n",
      "Epoch 81/100\n",
      " - 0s - loss: 0.0233 - acc: 0.9974\n",
      "Epoch 82/100\n",
      " - 0s - loss: 0.0227 - acc: 0.9948\n",
      "Epoch 83/100\n",
      " - 0s - loss: 0.0225 - acc: 0.9987\n",
      "Epoch 84/100\n",
      " - 0s - loss: 0.0207 - acc: 0.9974\n",
      "Epoch 85/100\n",
      " - 0s - loss: 0.0213 - acc: 0.9987\n",
      "Epoch 86/100\n",
      " - 0s - loss: 0.0204 - acc: 1.0000\n",
      "Epoch 87/100\n",
      " - 0s - loss: 0.0180 - acc: 0.9987\n",
      "Epoch 88/100\n",
      " - 0s - loss: 0.0173 - acc: 1.0000\n",
      "Epoch 89/100\n",
      " - 0s - loss: 0.0172 - acc: 1.0000\n",
      "Epoch 90/100\n",
      " - 0s - loss: 0.0173 - acc: 0.9987\n",
      "Epoch 91/100\n",
      " - 0s - loss: 0.0188 - acc: 0.9974\n",
      "Epoch 92/100\n",
      " - 0s - loss: 0.0199 - acc: 0.9961\n",
      "Epoch 93/100\n",
      " - 0s - loss: 0.0229 - acc: 0.9909\n",
      "Epoch 94/100\n",
      " - 0s - loss: 0.0175 - acc: 0.9961\n",
      "Epoch 95/100\n",
      " - 0s - loss: 0.0147 - acc: 0.9987\n",
      "Epoch 96/100\n",
      " - 0s - loss: 0.0151 - acc: 1.0000\n",
      "Epoch 97/100\n",
      " - 0s - loss: 0.0137 - acc: 1.0000\n",
      "Epoch 98/100\n",
      " - 0s - loss: 0.0131 - acc: 1.0000\n",
      "Epoch 99/100\n",
      " - 0s - loss: 0.0124 - acc: 1.0000\n",
      "Epoch 100/100\n",
      " - 0s - loss: 0.0128 - acc: 1.0000\n"
     ]
    },
    {
     "data": {
      "text/plain": [
       "<tensorflow.python.keras.callbacks.History at 0x1a436044e0>"
      ]
     },
     "execution_count": 15,
     "metadata": {},
     "output_type": "execute_result"
    }
   ],
   "source": [
    "model.fit(\n",
    "    X_train_scaled,\n",
    "    y_train_categorical,\n",
    "    epochs=100,\n",
    "    shuffle=True,\n",
    "    verbose=2\n",
    ")"
   ]
  },
  {
   "cell_type": "code",
   "execution_count": 16,
   "metadata": {},
   "outputs": [
    {
     "name": "stdout",
     "output_type": "stream",
     "text": [
      " - 0s - loss: 0.0337 - acc: 0.9922\n",
      "Normal Neural Network - Loss: 0.03371183725313106, Accuracy: 0.9922178983688354\n"
     ]
    }
   ],
   "source": [
    "model_loss, model_accuracy = model.evaluate(\n",
    "    X_test_scaled, y_test_categorical, verbose=2)\n",
    "print(\n",
    "    f\"Normal Neural Network - Loss: {model_loss}, Accuracy: {model_accuracy}\")"
   ]
  },
  {
   "cell_type": "code",
   "execution_count": 17,
   "metadata": {},
   "outputs": [],
   "source": [
    "encoded_predictions = model.predict_classes(X_test_scaled[:5])\n",
    "prediction_labels = label_encoder.inverse_transform(encoded_predictions)"
   ]
  },
  {
   "cell_type": "code",
   "execution_count": 18,
   "metadata": {},
   "outputs": [
    {
     "name": "stdout",
     "output_type": "stream",
     "text": [
      "Predicted classes: [0 1 1 0 1]\n",
      "Actual Labels: [0, 1, 1, 0, 1]\n"
     ]
    }
   ],
   "source": [
    "print(f\"Predicted classes: {prediction_labels}\")\n",
    "print(f\"Actual Labels: {list(y_test[:5])}\")"
   ]
  },
  {
   "cell_type": "code",
   "execution_count": null,
   "metadata": {},
   "outputs": [],
   "source": []
  },
  {
   "cell_type": "code",
   "execution_count": null,
   "metadata": {},
   "outputs": [],
   "source": []
  },
  {
   "cell_type": "code",
   "execution_count": null,
   "metadata": {},
   "outputs": [],
   "source": []
  },
  {
   "cell_type": "code",
   "execution_count": null,
   "metadata": {},
   "outputs": [],
   "source": []
  },
  {
   "cell_type": "code",
   "execution_count": null,
   "metadata": {},
   "outputs": [],
   "source": []
  }
 ],
 "metadata": {
  "kernelspec": {
   "display_name": "Python 3",
   "language": "python",
   "name": "python3"
  },
  "language_info": {
   "codemirror_mode": {
    "name": "ipython",
    "version": 3
   },
   "file_extension": ".py",
   "mimetype": "text/x-python",
   "name": "python",
   "nbconvert_exporter": "python",
   "pygments_lexer": "ipython3",
   "version": "3.7.1"
  }
 },
 "nbformat": 4,
 "nbformat_minor": 2
}

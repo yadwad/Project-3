{
 "cells": [
  {
   "cell_type": "code",
   "execution_count": 1,
   "metadata": {},
   "outputs": [],
   "source": [
    "import pandas as pd\n",
    "import numpy as np\n",
    "from sklearn.preprocessing import LabelEncoder\n",
    "from sklearn.model_selection import train_test_split\n",
    "from sklearn.ensemble import RandomForestClassifier\n",
    "from sklearn.metrics import confusion_matrix\n",
    "from sklearn.metrics import f1_score"
   ]
  },
  {
   "cell_type": "code",
   "execution_count": 9,
   "metadata": {},
   "outputs": [
    {
     "data": {
      "text/html": [
       "<div>\n",
       "<style scoped>\n",
       "    .dataframe tbody tr th:only-of-type {\n",
       "        vertical-align: middle;\n",
       "    }\n",
       "\n",
       "    .dataframe tbody tr th {\n",
       "        vertical-align: top;\n",
       "    }\n",
       "\n",
       "    .dataframe thead th {\n",
       "        text-align: right;\n",
       "    }\n",
       "</style>\n",
       "<table border=\"1\" class=\"dataframe\">\n",
       "  <thead>\n",
       "    <tr style=\"text-align: right;\">\n",
       "      <th></th>\n",
       "      <th>Pregnancies</th>\n",
       "      <th>Glucose</th>\n",
       "      <th>BloodPressure</th>\n",
       "      <th>SkinThickness</th>\n",
       "      <th>Insulin</th>\n",
       "      <th>BMI</th>\n",
       "      <th>DiabetesPedigreeFunction</th>\n",
       "      <th>Age</th>\n",
       "      <th>Outcome</th>\n",
       "    </tr>\n",
       "  </thead>\n",
       "  <tbody>\n",
       "    <tr>\n",
       "      <th>0</th>\n",
       "      <td>6</td>\n",
       "      <td>148</td>\n",
       "      <td>72</td>\n",
       "      <td>35</td>\n",
       "      <td>0</td>\n",
       "      <td>33.6</td>\n",
       "      <td>0.627</td>\n",
       "      <td>50</td>\n",
       "      <td>1</td>\n",
       "    </tr>\n",
       "    <tr>\n",
       "      <th>1</th>\n",
       "      <td>1</td>\n",
       "      <td>85</td>\n",
       "      <td>66</td>\n",
       "      <td>29</td>\n",
       "      <td>0</td>\n",
       "      <td>26.6</td>\n",
       "      <td>0.351</td>\n",
       "      <td>31</td>\n",
       "      <td>0</td>\n",
       "    </tr>\n",
       "    <tr>\n",
       "      <th>2</th>\n",
       "      <td>8</td>\n",
       "      <td>183</td>\n",
       "      <td>64</td>\n",
       "      <td>0</td>\n",
       "      <td>0</td>\n",
       "      <td>23.3</td>\n",
       "      <td>0.672</td>\n",
       "      <td>32</td>\n",
       "      <td>1</td>\n",
       "    </tr>\n",
       "    <tr>\n",
       "      <th>3</th>\n",
       "      <td>1</td>\n",
       "      <td>89</td>\n",
       "      <td>66</td>\n",
       "      <td>23</td>\n",
       "      <td>94</td>\n",
       "      <td>28.1</td>\n",
       "      <td>0.167</td>\n",
       "      <td>21</td>\n",
       "      <td>0</td>\n",
       "    </tr>\n",
       "    <tr>\n",
       "      <th>4</th>\n",
       "      <td>0</td>\n",
       "      <td>137</td>\n",
       "      <td>40</td>\n",
       "      <td>35</td>\n",
       "      <td>168</td>\n",
       "      <td>43.1</td>\n",
       "      <td>2.288</td>\n",
       "      <td>33</td>\n",
       "      <td>1</td>\n",
       "    </tr>\n",
       "  </tbody>\n",
       "</table>\n",
       "</div>"
      ],
      "text/plain": [
       "   Pregnancies  Glucose  BloodPressure  SkinThickness  Insulin   BMI  \\\n",
       "0            6      148             72             35        0  33.6   \n",
       "1            1       85             66             29        0  26.6   \n",
       "2            8      183             64              0        0  23.3   \n",
       "3            1       89             66             23       94  28.1   \n",
       "4            0      137             40             35      168  43.1   \n",
       "\n",
       "   DiabetesPedigreeFunction  Age  Outcome  \n",
       "0                     0.627   50        1  \n",
       "1                     0.351   31        0  \n",
       "2                     0.672   32        1  \n",
       "3                     0.167   21        0  \n",
       "4                     2.288   33        1  "
      ]
     },
     "execution_count": 9,
     "metadata": {},
     "output_type": "execute_result"
    }
   ],
   "source": [
    "# Reference the data file where the CSV is located\n",
    "# Reference the data file where the CSV is located\n",
    "diabetes_csv_path = \"data/data.csv\"\n",
    "\n",
    "# Import the data into a Pandas DataFrame\n",
    "df = pd.read_csv(diabetes_csv_path)\n",
    "df.head()\n"
   ]
  },
  {
   "cell_type": "code",
   "execution_count": 28,
   "metadata": {},
   "outputs": [],
   "source": [
    "df = pd.read_csv(diabetes_csv_path)\n",
    "predictors = ['Glucose','BloodPressure', 'BMI', 'Age', 'SkinThickness', 'Insulin', 'DiabetesPedigreeFunction']\n",
    "label = 'Outcome'\n"
   ]
  },
  {
   "cell_type": "code",
   "execution_count": 33,
   "metadata": {},
   "outputs": [],
   "source": [
    "df_train, df_test, y_train, y_test = train_test_split(df[predictors], df[label], test_size=0.20, random_state=42)"
   ]
  },
  {
   "cell_type": "code",
   "execution_count": 34,
   "metadata": {},
   "outputs": [],
   "source": [
    "le = dict()\n",
    "for column in df_train.columns:\n",
    "    if df_train[column].dtype == np.object:\n",
    "        le[column] = LabelEncoder()\n",
    "        df_train[column] = le[column].fit_transform(df_train[column])\n",
    "        \n",
    "for column in df_test.columns:\n",
    "    if df_test[column].dtype == np.object:\n",
    "        df_test[column] = le[column].transform(df_test[column])"
   ]
  },
  {
   "cell_type": "code",
   "execution_count": 32,
   "metadata": {},
   "outputs": [
    {
     "name": "stdout",
     "output_type": "stream",
     "text": [
      "Glucose [ 84 112 139 161 134 130 132 108  80  87 171  88 146 191 122 159 100 123\n",
      " 155 102 125 104 131 145 152 147 128 194  78 106 129  61  81  99 107 170\n",
      "  85  97 127 133  94  83 187 111 143 124 165 137 179 101 120  89 119 109\n",
      " 105  77  95 135 103  82 138 117 110   0 115 142 116 126  79  90 160 162\n",
      " 144 114 180 168 195  76  86 189  73 196 158 121 151 141 153 181 136 164\n",
      " 148 190  68 197 186  91 154 173 169 118 188  93 157 163 150 113 174 166\n",
      " 140 193 184 183  65  57  56  92 156 176  72  96  67 182  98  75 149  71\n",
      "  44 175 198 178 167 199  74]\n",
      "BloodPressure [  0  82  46  50  80  70  68  60  55  72  74  85  56  64  66  62 100  84\n",
      "  86  88  76  94  78  75  54  58  90  65  30  52  92  38  98 110  96 104\n",
      " 102  48 106  44  24  40  61 122]\n",
      "BMI [ 0.  28.2 28.7 21.9 46.2 25.9 32.9 25.5 35.5 19.1 37.2 43.6 29.  28.9\n",
      " 30.9 33.3 27.4 32.  57.3 38.7 29.3 33.8 30.  29.9 31.6 22.2 41.5 49.3\n",
      " 43.3 30.8 36.9 23.5 33.6 31.  25.8 39.9 35.1 34.4 30.1 25.6 36.6 34.5\n",
      " 35.6 27.7 40.2 34.3 35.2 37.7 26.8 33.2 37.5 29.5 24.6 21.8 52.3 30.5\n",
      " 31.2 24.2 22.5 38.5 32.4 34.8 36.3 35.8 23.9 42.3 33.1 28.5 21.1 24.7\n",
      " 26.2 35.4 34.1 47.9 23.1 27.8 39.4 35.  34.9 24.  28.8 22.1 32.5 25.4\n",
      " 42.4 36.5 23.6 29.7 44.6 36.8 28.  39.6 24.3 46.7 26.5 23.8 26.4 38.\n",
      " 45.4 22.7 29.6 20.  45.  39.8 32.8 67.1 41.3 36.4 21.  25.3 19.6 18.2\n",
      " 39.  26.  42.9 27.6 20.4 25.2 27.  43.5 34.  40.6 30.4 27.9 35.9 37.1\n",
      " 34.2 33.7 55.  27.5 36.1 24.5 24.9 36.7 29.8 38.1 25.1 24.8 45.3 41.\n",
      " 59.4 46.1 39.1 39.5 27.3 26.6 37.4 27.2 34.6 33.9 27.1 39.7 42.7 31.1\n",
      " 28.4 38.2 28.6 26.3 23.  46.8 40.9 45.6 21.2 37.9 37.6 40.8 22.6 44.5\n",
      " 23.2 21.7 42.  45.8 32.7 28.1 19.3 19.5 19.4 45.2 44.1 36.2 38.4 24.4\n",
      " 38.9 44.2 31.9 35.7 52.9 32.1 30.7 41.2 42.1 22.9 40.5 32.3 23.7 25.\n",
      " 37.8 40.  32.2 24.1 35.3 38.8 26.9 29.2 20.8 43.1 28.3 34.7 36.  44.\n",
      " 26.1 48.3 45.7 46.3 43.4 40.1 22.4 23.4 37.3 38.6 49.6 22.3 33.5 49.7\n",
      " 39.3]\n",
      "Age [21 50 22 65 46 23 47 24 26 27 34 33 40 28 35 31 41 32 57 42 59 44 25 30\n",
      " 52 37 29 43 51 36 55 39 38 58 61 54 48 70 72 66 60 45 63 68 49 67 56 53\n",
      " 69 62 64 81]\n"
     ]
    }
   ],
   "source": [
    "for col in df_train.columns:\n",
    "    print(col, df_train[col].unique())"
   ]
  },
  {
   "cell_type": "code",
   "execution_count": 35,
   "metadata": {},
   "outputs": [
    {
     "data": {
      "text/plain": [
       "RandomForestClassifier(bootstrap=True, class_weight=None, criterion='gini',\n",
       "            max_depth=None, max_features='auto', max_leaf_nodes=None,\n",
       "            min_impurity_decrease=0.0, min_impurity_split=None,\n",
       "            min_samples_leaf=1, min_samples_split=2,\n",
       "            min_weight_fraction_leaf=0.0, n_estimators=25, n_jobs=None,\n",
       "            oob_score=False, random_state=42, verbose=0, warm_start=False)"
      ]
     },
     "execution_count": 35,
     "metadata": {},
     "output_type": "execute_result"
    }
   ],
   "source": [
    "model = RandomForestClassifier(n_estimators=25, random_state=42)\n",
    "model.fit(X=df_train, y=y_train)\n",
    "# y_pred = model.predict(X=df_test)\n",
    "# print(confusion_matrix(y_test, y_pred))\n",
    "# print(f1_score(y_test, y_pred))\n",
    "# from sklearn.externals import joblib\n",
    "# joblib.dump(model, './model/model.pkl')"
   ]
  },
  {
   "cell_type": "code",
   "execution_count": 36,
   "metadata": {},
   "outputs": [],
   "source": [
    "from sklearn.externals import joblib"
   ]
  },
  {
   "cell_type": "code",
   "execution_count": 37,
   "metadata": {},
   "outputs": [
    {
     "data": {
      "text/plain": [
       "['model.pkl']"
      ]
     },
     "execution_count": 37,
     "metadata": {},
     "output_type": "execute_result"
    }
   ],
   "source": [
    "model = RandomForestClassifier(n_estimators=25, random_state=42)\n",
    "model.fit(X=df_train, y=y_train)\n",
    "joblib.dump(model, 'model.pkl')"
   ]
  },
  {
   "cell_type": "code",
   "execution_count": 38,
   "metadata": {},
   "outputs": [
    {
     "data": {
      "text/html": [
       "<div>\n",
       "<style scoped>\n",
       "    .dataframe tbody tr th:only-of-type {\n",
       "        vertical-align: middle;\n",
       "    }\n",
       "\n",
       "    .dataframe tbody tr th {\n",
       "        vertical-align: top;\n",
       "    }\n",
       "\n",
       "    .dataframe thead th {\n",
       "        text-align: right;\n",
       "    }\n",
       "</style>\n",
       "<table border=\"1\" class=\"dataframe\">\n",
       "  <thead>\n",
       "    <tr style=\"text-align: right;\">\n",
       "      <th></th>\n",
       "      <th>Glucose</th>\n",
       "      <th>BloodPressure</th>\n",
       "      <th>BMI</th>\n",
       "      <th>Age</th>\n",
       "      <th>SkinThickness</th>\n",
       "      <th>Insulin</th>\n",
       "      <th>DiabetesPedigreeFunction</th>\n",
       "    </tr>\n",
       "  </thead>\n",
       "  <tbody>\n",
       "    <tr>\n",
       "      <th>668</th>\n",
       "      <td>98</td>\n",
       "      <td>58</td>\n",
       "      <td>34.0</td>\n",
       "      <td>43</td>\n",
       "      <td>33</td>\n",
       "      <td>190</td>\n",
       "      <td>0.430</td>\n",
       "    </tr>\n",
       "    <tr>\n",
       "      <th>324</th>\n",
       "      <td>112</td>\n",
       "      <td>75</td>\n",
       "      <td>35.7</td>\n",
       "      <td>21</td>\n",
       "      <td>32</td>\n",
       "      <td>0</td>\n",
       "      <td>0.148</td>\n",
       "    </tr>\n",
       "    <tr>\n",
       "      <th>624</th>\n",
       "      <td>108</td>\n",
       "      <td>64</td>\n",
       "      <td>30.8</td>\n",
       "      <td>21</td>\n",
       "      <td>0</td>\n",
       "      <td>0</td>\n",
       "      <td>0.158</td>\n",
       "    </tr>\n",
       "    <tr>\n",
       "      <th>690</th>\n",
       "      <td>107</td>\n",
       "      <td>80</td>\n",
       "      <td>24.6</td>\n",
       "      <td>34</td>\n",
       "      <td>0</td>\n",
       "      <td>0</td>\n",
       "      <td>0.856</td>\n",
       "    </tr>\n",
       "    <tr>\n",
       "      <th>473</th>\n",
       "      <td>136</td>\n",
       "      <td>90</td>\n",
       "      <td>29.9</td>\n",
       "      <td>50</td>\n",
       "      <td>0</td>\n",
       "      <td>0</td>\n",
       "      <td>0.210</td>\n",
       "    </tr>\n",
       "  </tbody>\n",
       "</table>\n",
       "</div>"
      ],
      "text/plain": [
       "     Glucose  BloodPressure   BMI  Age  SkinThickness  Insulin  \\\n",
       "668       98             58  34.0   43             33      190   \n",
       "324      112             75  35.7   21             32        0   \n",
       "624      108             64  30.8   21              0        0   \n",
       "690      107             80  24.6   34              0        0   \n",
       "473      136             90  29.9   50              0        0   \n",
       "\n",
       "     DiabetesPedigreeFunction  \n",
       "668                     0.430  \n",
       "324                     0.148  \n",
       "624                     0.158  \n",
       "690                     0.856  \n",
       "473                     0.210  "
      ]
     },
     "execution_count": 38,
     "metadata": {},
     "output_type": "execute_result"
    }
   ],
   "source": [
    "df_test.head()"
   ]
  },
  {
   "cell_type": "code",
   "execution_count": 39,
   "metadata": {},
   "outputs": [
    {
     "data": {
      "text/plain": [
       "0.2"
      ]
     },
     "execution_count": 39,
     "metadata": {},
     "output_type": "execute_result"
    }
   ],
   "source": [
    "predict_request = [3, 0, 6.0, 0, 1, 33.0, 2]\n",
    "predict_request = np.array(predict_request).reshape(1, -1)\n",
    "model.predict_proba(predict_request)[0][1]"
   ]
  },
  {
   "cell_type": "code",
   "execution_count": 40,
   "metadata": {},
   "outputs": [
    {
     "data": {
      "text/plain": [
       "668    0\n",
       "324    0\n",
       "624    0\n",
       "690    0\n",
       "473    0\n",
       "Name: Outcome, dtype: int64"
      ]
     },
     "execution_count": 40,
     "metadata": {},
     "output_type": "execute_result"
    }
   ],
   "source": [
    "y_test.head()"
   ]
  },
  {
   "cell_type": "code",
   "execution_count": 41,
   "metadata": {},
   "outputs": [
    {
     "data": {
      "text/plain": [
       "array([[0.56, 0.44],\n",
       "       [0.72, 0.28],\n",
       "       [0.92, 0.08],\n",
       "       [0.64, 0.36],\n",
       "       [0.68, 0.32],\n",
       "       [0.4 , 0.6 ],\n",
       "       [1.  , 0.  ],\n",
       "       [0.16, 0.84],\n",
       "       [0.32, 0.68],\n",
       "       [0.32, 0.68],\n",
       "       [0.96, 0.04],\n",
       "       [0.32, 0.68],\n",
       "       [0.8 , 0.2 ],\n",
       "       [0.52, 0.48],\n",
       "       [0.96, 0.04],\n",
       "       [0.76, 0.24],\n",
       "       [0.84, 0.16],\n",
       "       [1.  , 0.  ],\n",
       "       [0.4 , 0.6 ],\n",
       "       [0.48, 0.52],\n",
       "       [0.72, 0.28],\n",
       "       [1.  , 0.  ],\n",
       "       [0.72, 0.28],\n",
       "       [0.96, 0.04],\n",
       "       [0.6 , 0.4 ],\n",
       "       [0.  , 1.  ],\n",
       "       [1.  , 0.  ],\n",
       "       [1.  , 0.  ],\n",
       "       [0.92, 0.08],\n",
       "       [0.92, 0.08],\n",
       "       [0.24, 0.76],\n",
       "       [0.28, 0.72],\n",
       "       [0.2 , 0.8 ],\n",
       "       [0.12, 0.88],\n",
       "       [0.28, 0.72],\n",
       "       [0.36, 0.64],\n",
       "       [0.24, 0.76],\n",
       "       [0.44, 0.56],\n",
       "       [0.8 , 0.2 ],\n",
       "       [0.24, 0.76],\n",
       "       [0.92, 0.08],\n",
       "       [0.72, 0.28],\n",
       "       [0.36, 0.64],\n",
       "       [0.32, 0.68],\n",
       "       [1.  , 0.  ],\n",
       "       [0.6 , 0.4 ],\n",
       "       [0.64, 0.36],\n",
       "       [0.88, 0.12],\n",
       "       [0.8 , 0.2 ],\n",
       "       [0.08, 0.92],\n",
       "       [1.  , 0.  ],\n",
       "       [0.24, 0.76],\n",
       "       [0.08, 0.92],\n",
       "       [0.48, 0.52],\n",
       "       [0.96, 0.04],\n",
       "       [0.92, 0.08],\n",
       "       [0.44, 0.56],\n",
       "       [1.  , 0.  ],\n",
       "       [0.68, 0.32],\n",
       "       [0.32, 0.68],\n",
       "       [0.4 , 0.6 ],\n",
       "       [0.88, 0.12],\n",
       "       [0.72, 0.28],\n",
       "       [0.6 , 0.4 ],\n",
       "       [1.  , 0.  ],\n",
       "       [0.36, 0.64],\n",
       "       [0.92, 0.08],\n",
       "       [0.4 , 0.6 ],\n",
       "       [1.  , 0.  ],\n",
       "       [0.32, 0.68],\n",
       "       [0.44, 0.56],\n",
       "       [0.88, 0.12],\n",
       "       [0.88, 0.12],\n",
       "       [1.  , 0.  ],\n",
       "       [0.92, 0.08],\n",
       "       [0.44, 0.56],\n",
       "       [0.84, 0.16],\n",
       "       [0.84, 0.16],\n",
       "       [0.8 , 0.2 ],\n",
       "       [0.88, 0.12],\n",
       "       [0.32, 0.68],\n",
       "       [0.96, 0.04],\n",
       "       [0.96, 0.04],\n",
       "       [0.48, 0.52],\n",
       "       [0.84, 0.16],\n",
       "       [0.2 , 0.8 ],\n",
       "       [0.32, 0.68],\n",
       "       [0.68, 0.32],\n",
       "       [0.84, 0.16],\n",
       "       [1.  , 0.  ],\n",
       "       [0.96, 0.04],\n",
       "       [0.92, 0.08],\n",
       "       [1.  , 0.  ],\n",
       "       [0.44, 0.56],\n",
       "       [0.56, 0.44],\n",
       "       [0.52, 0.48],\n",
       "       [0.24, 0.76],\n",
       "       [1.  , 0.  ],\n",
       "       [0.32, 0.68],\n",
       "       [0.96, 0.04],\n",
       "       [0.32, 0.68],\n",
       "       [1.  , 0.  ],\n",
       "       [0.36, 0.64],\n",
       "       [0.4 , 0.6 ],\n",
       "       [0.16, 0.84],\n",
       "       [0.76, 0.24],\n",
       "       [0.64, 0.36],\n",
       "       [0.  , 1.  ],\n",
       "       [0.64, 0.36],\n",
       "       [0.28, 0.72],\n",
       "       [0.96, 0.04],\n",
       "       [0.44, 0.56],\n",
       "       [0.88, 0.12],\n",
       "       [0.16, 0.84],\n",
       "       [0.76, 0.24],\n",
       "       [0.52, 0.48],\n",
       "       [0.24, 0.76],\n",
       "       [0.76, 0.24],\n",
       "       [0.96, 0.04],\n",
       "       [0.56, 0.44],\n",
       "       [1.  , 0.  ],\n",
       "       [0.84, 0.16],\n",
       "       [0.8 , 0.2 ],\n",
       "       [0.8 , 0.2 ],\n",
       "       [0.76, 0.24],\n",
       "       [0.36, 0.64],\n",
       "       [0.92, 0.08],\n",
       "       [0.28, 0.72],\n",
       "       [0.32, 0.68],\n",
       "       [0.24, 0.76],\n",
       "       [0.44, 0.56],\n",
       "       [0.36, 0.64],\n",
       "       [0.92, 0.08],\n",
       "       [0.6 , 0.4 ],\n",
       "       [0.24, 0.76],\n",
       "       [0.68, 0.32],\n",
       "       [0.76, 0.24],\n",
       "       [0.16, 0.84],\n",
       "       [0.16, 0.84],\n",
       "       [0.92, 0.08],\n",
       "       [0.88, 0.12],\n",
       "       [1.  , 0.  ],\n",
       "       [0.8 , 0.2 ],\n",
       "       [0.44, 0.56],\n",
       "       [0.88, 0.12],\n",
       "       [0.6 , 0.4 ],\n",
       "       [0.84, 0.16],\n",
       "       [1.  , 0.  ],\n",
       "       [0.56, 0.44],\n",
       "       [0.2 , 0.8 ],\n",
       "       [0.76, 0.24],\n",
       "       [0.44, 0.56],\n",
       "       [0.64, 0.36],\n",
       "       [0.84, 0.16]])"
      ]
     },
     "execution_count": 41,
     "metadata": {},
     "output_type": "execute_result"
    }
   ],
   "source": [
    "y_pred_prob = model.predict_proba(df_test)\n",
    "y_pred_prob"
   ]
  },
  {
   "cell_type": "code",
   "execution_count": 42,
   "metadata": {},
   "outputs": [
    {
     "data": {
      "text/plain": [
       "array([0, 0, 0, 0, 0, 1, 0, 1, 1, 1], dtype=int64)"
      ]
     },
     "execution_count": 42,
     "metadata": {},
     "output_type": "execute_result"
    }
   ],
   "source": [
    "y_pred = model.predict(df_test)\n",
    "y_pred[:10]"
   ]
  },
  {
   "cell_type": "code",
   "execution_count": 49,
   "metadata": {},
   "outputs": [
    {
     "data": {
      "text/plain": [
       "['model_columns.pkl']"
      ]
     },
     "execution_count": 49,
     "metadata": {},
     "output_type": "execute_result"
    }
   ],
   "source": [
    "model_columns = list(df_train.columns)\n",
    "joblib.dump(model_columns, 'model_columns.pkl')"
   ]
  },
  {
   "cell_type": "code",
   "execution_count": null,
   "metadata": {},
   "outputs": [],
   "source": []
  }
 ],
 "metadata": {
  "kernelspec": {
   "display_name": "Python 3",
   "language": "python",
   "name": "python3"
  },
  "language_info": {
   "codemirror_mode": {
    "name": "ipython",
    "version": 3
   },
   "file_extension": ".py",
   "mimetype": "text/x-python",
   "name": "python",
   "nbconvert_exporter": "python",
   "pygments_lexer": "ipython3",
   "version": "3.7.1"
  }
 },
 "nbformat": 4,
 "nbformat_minor": 2
}
